{
 "cells": [
  {
   "cell_type": "code",
   "execution_count": 1,
   "metadata": {},
   "outputs": [],
   "source": [
    "import numpy as np\n",
    "from matplotlib import pyplot as plt"
   ]
  },
  {
   "cell_type": "code",
   "execution_count": 2,
   "metadata": {},
   "outputs": [],
   "source": [
    "def sigmoid(X):\n",
    "    return 1/(1+np.exp(-X))\n",
    "\n",
    "\n",
    "def derivative_of_sigmoid(X):\n",
    "    return sigmoid(X) * (1 - sigmoid(X))\n",
    "\n",
    "\n",
    "def feed_forward(X, W1, W2, B):\n",
    "    Z2 = np.matmul(X, W1) + B[0]\n",
    "    A2 = sigmoid(Z2)\n",
    "    Z3 = np.matmul(A2, W2) + B[1]\n",
    "    Y_ = sigmoid(Z3)\n",
    "    return Y_\n",
    "\n",
    "\n",
    "def cost_function(Y_, Y):\n",
    "    return sum(((Y_ - Y) ** 2)[0]) / 2\n",
    "\n",
    "\n",
    "#Backpropagation\n",
    "def compute_derivatives(X, W1, W2, B):\n",
    "    Z2 = np.matmul(X, W1) + B[0]\n",
    "    A2 = sigmoid(Z2)\n",
    "    Z3 = np.matmul(A2, W2) + B[1]\n",
    "    Y_ = sigmoid(Z3)\n",
    "    \n",
    "    DW2 = np.matmul(A2.T, (Y_ - Y) * derivative_of_sigmoid(Z3))\n",
    "    DW1 = np.matmul(X.T, ( (np.matmul((Y_ - Y) * derivative_of_sigmoid(Z3), W2.T)) * derivative_of_sigmoid(Z2)  ))\n",
    "    \n",
    "    B1 = (Y_ - Y) * derivative_of_sigmoid(Z3)\n",
    "    B2 = (np.matmul((Y_ - Y) * derivative_of_sigmoid(Z3), W2.T)) * derivative_of_sigmoid(Z2)\n",
    "    \n",
    "    return DW1, DW2, B1, B2\n",
    "\n",
    "\n",
    "def gradient_descent(X, W1, W2, B, learning_rate = 0.0005):\n",
    "    DW1, DW2, B1, B2 = compute_derivatives(X, W1, W2, B)\n",
    "    \n",
    "    W1 = W1 - learning_rate * DW1\n",
    "    W2 = W2 - learning_rate * DW2\n",
    "    B1 = B[0] - learning_rate * B1\n",
    "    B2 = B[1] - learning_rate * B2\n",
    "    B = np.array([B1, B2])\n",
    "    \n",
    "    return W1, W2, B "
   ]
  },
  {
   "cell_type": "code",
   "execution_count": 3,
   "metadata": {},
   "outputs": [],
   "source": [
    "B1 = .35\n",
    "B2 = .60\n",
    "\n",
    "B = np.array([B1, B2])\n",
    "\n",
    "W1 = np.array([\n",
    "    [.15, .25],\n",
    "    [.20, .30]\n",
    "])\n",
    "\n",
    "W2 = np.array([\n",
    "    [.40, .50],\n",
    "    [.45, .55]\n",
    "])\n",
    "\n",
    "\n",
    "X = np.array([\n",
    "    [.05, .10]\n",
    "    #[.02, .11]\n",
    "])\n",
    "\n",
    "\n",
    "Y = np.array([\n",
    "    [.01, .99]\n",
    "    #[.99, .01]\n",
    "])"
   ]
  },
  {
   "cell_type": "code",
   "execution_count": 99,
   "metadata": {},
   "outputs": [
    {
     "data": {
      "image/png": "[encoded data removed]",
      "text/plain": [
       "<Figure size 432x288 with 1 Axes>"
      ]
     },
     "metadata": {
      "needs_background": "light"
     },
     "output_type": "display_data"
    }
   ],
   "source": [
    "J_ = []\n",
    "for i in range(500):\n",
    "    output = feed_forward(X, W1, W2, B)\n",
    "    J = cost_function(output, Y)\n",
    "    W1,  W2, B = gradient_descent(X, W1, W2, B, 0.5)\n",
    "    J_.append(J)\n",
    "\n",
    "plt.plot(list(range(500)), J_)\n",
    "plt.xlabel(\"Iterations\")\n",
    "plt.ylabel(\"Cost or Error\")\n",
    "plt.show()\n",
    "\n",
    "output = feed_forward(X, W1, W2, B)\n",
    "J = cost_function(output, Y)\n",
    "print(\"Cost =\", J)"
   ]
  },
  {
   "cell_type": "code",
   "execution_count": 7,
   "metadata": {},
   "outputs": [
    {
     "name": "stdout",
     "output_type": "stream",
     "text": [
      "Cost = 0.2902433811727934\n"
     ]
    }
   ],
   "source": [
    "output = feed_forward(X, W1, W2, B)\n",
    "J = cost_function(output, Y)\n",
    "print(\"Cost =\", J)"
   ]
  },
  {
   "cell_type": "code",
   "execution_count": 6,
   "metadata": {},
   "outputs": [],
   "source": [
    "W1,  W2, B = gradient_descent(X, W1, W2, B, 0.5)"
   ]
  }
 ],
 "metadata": {
  "kernelspec": {
   "display_name": "Python 3",
   "language": "python",
   "name": "python3"
  },
  "language_info": {
   "codemirror_mode": {
    "name": "ipython",
    "version": 3
   },
   "file_extension": ".py",
   "mimetype": "text/x-python",
   "name": "python",
   "nbconvert_exporter": "python",
   "pygments_lexer": "ipython3",
   "version": "3.7.3"
  }
 },
 "nbformat": 4,
 "nbformat_minor": 2
}
