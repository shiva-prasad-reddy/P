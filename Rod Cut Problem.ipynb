{
 "cells": [
  {
   "cell_type": "code",
   "execution_count": 1,
   "metadata": {},
   "outputs": [],
   "source": [
    "revenue = {\n",
    "    1 : 1,\n",
    "    2 : 5,\n",
    "    3 : 8,\n",
    "    4 : 9,\n",
    "    5 : 10,\n",
    "    6 : 17,\n",
    "    7 : 17,\n",
    "    8 : 20\n",
    "}\n",
    "\n",
    "mem = {\n",
    "    1 : None,\n",
    "    2 : None,\n",
    "    3 : None,\n",
    "    4 : None,\n",
    "    5 : None,\n",
    "    6 : None,\n",
    "    7 : None,\n",
    "    8 : None\n",
    "}\n",
    "\n",
    "#fun(inch) = (i, fun(inch-i))\n",
    "tab = {\n",
    "    1 : None,\n",
    "    2 : None,\n",
    "    3 : None,\n",
    "    4 : None,\n",
    "    5 : None,\n",
    "    6 : None,\n",
    "    7 : None,\n",
    "    8 : None\n",
    "}"
   ]
  },
  {
   "cell_type": "code",
   "execution_count": 2,
   "metadata": {},
   "outputs": [],
   "source": [
    "def fun(inch):\n",
    "    if(mem[inch]):\n",
    "        return mem[inch]\n",
    "    \n",
    "    max_revenue = revenue[inch]\n",
    "    tab[inch] = inch\n",
    "    for i in range(1,inch):\n",
    "        _ = revenue[i] + fun(inch - i)\n",
    "        if(_ > max_revenue):\n",
    "            tab[inch] = i\n",
    "            max_revenue = _\n",
    "    #print(tab[inch])\n",
    "    mem[inch] = max_revenue\n",
    "    return max_revenue\n",
    "\n"
   ]
  },
  {
   "cell_type": "code",
   "execution_count": 3,
   "metadata": {},
   "outputs": [
    {
     "name": "stdout",
     "output_type": "stream",
     "text": [
      "Max Revenue = 22\n"
     ]
    }
   ],
   "source": [
    "print(\"Max Revenue =\", fun(8))\n"
   ]
  },
  {
   "cell_type": "code",
   "execution_count": null,
   "metadata": {},
   "outputs": [],
   "source": []
  }
 ],
 "metadata": {
  "kernelspec": {
   "display_name": "Python 3",
   "language": "python",
   "name": "python3"
  },
  "language_info": {
   "codemirror_mode": {
    "name": "ipython",
    "version": 3
   },
   "file_extension": ".py",
   "mimetype": "text/x-python",
   "name": "python",
   "nbconvert_exporter": "python",
   "pygments_lexer": "ipython3",
   "version": "3.7.3"
  }
 },
 "nbformat": 4,
 "nbformat_minor": 2
}
