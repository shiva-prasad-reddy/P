{
 "cells": [
  {
   "cell_type": "code",
   "execution_count": 8,
   "metadata": {},
   "outputs": [],
   "source": [
    "import sys\n",
    "import numpy as np\n",
    "from matplotlib import pyplot as plt\n",
    "import sys"
   ]
  },
  {
   "cell_type": "code",
   "execution_count": 20,
   "metadata": {},
   "outputs": [],
   "source": [
    "def eucledian_distance(x, y):\n",
    "    return ((x - y) ** 2).sum()\n",
    "\n",
    "def get_k_random_points(data, features, K):\n",
    "    points = np.zeros([K, features])\n",
    "    for i in range(features):\n",
    "        _ = np.random.randint(low=data[:, i].min(), high=data[:, i].max(), size=K)\n",
    "        points[:, i] = _\n",
    "    \n",
    "    return points\n",
    "\n",
    "def update_means(means, data, index, counters):\n",
    "    means[index] = ((means[index] * (counters[index] - 1)) + data)/counters[index]\n",
    "    \n",
    "def form_clusters(data, means, K):\n",
    "    labels = []\n",
    "    counters = np.ones( [K] ,dtype=np.int32)\n",
    "    for i in data:\n",
    "        distance, index = sys.maxsize, sys.maxsize\n",
    "        for j in range(len(means)):\n",
    "            dis = eucledian_distance(i, means[j])\n",
    "            if(dis < distance):\n",
    "                distance = dis\n",
    "                index = j\n",
    "        labels.append(index)\n",
    "        counters[index] = counters[index] + 1\n",
    "        update_means(means, i, index, counters)\n",
    "        #print(means)\n",
    "    \n",
    "    return labels\n",
    "\n",
    "def predict(data, means, K):\n",
    "    return form_clusters(data, means, K)"
   ]
  },
  {
   "cell_type": "code",
   "execution_count": 31,
   "metadata": {},
   "outputs": [
    {
     "name": "stdout",
     "output_type": "stream",
     "text": [
      "Means >>>\n",
      " [[1.5        8.75      ]\n",
      " [3.4        2.4       ]\n",
      " [7.66666667 7.5       ]]\n",
      "\n",
      "Output >>> [0, 1, 0, 1, 1, 0, 0, 1, 2, 1, 2, 2]\n"
     ]
    }
   ],
   "source": [
    "data = [\n",
    "    [1,8],\n",
    "    [2,2],\n",
    "    [2,9],\n",
    "    [1,2],\n",
    "    [2,4],\n",
    "    [1, 10],\n",
    "    [2,8],\n",
    "    [4,2],\n",
    "    [6,9],\n",
    "    [8,2],\n",
    "    [10,3.5],\n",
    "    [7, 10]\n",
    "]\n",
    "\n",
    "data = np.array(data)\n",
    "\n",
    "#number of clusters K\n",
    "K = 3\n",
    "features = data.shape[1]\n",
    "\n",
    "\n",
    "means = get_k_random_points(data, features, K)\n",
    "\n",
    "for i in range(100):\n",
    "    output = form_clusters(data, means, K)\n",
    "\n",
    "print(\"Means >>>\\n\",means)\n",
    "print(\"\\nOutput >>>\",output)"
   ]
  },
  {
   "cell_type": "code",
   "execution_count": 32,
   "metadata": {},
   "outputs": [
    {
     "data": {
      "image/png": "[encoded data removed]",
      "text/plain": [
       "<Figure size 432x288 with 1 Axes>"
      ]
     },
     "metadata": {
      "needs_background": "light"
     },
     "output_type": "display_data"
    }
   ],
   "source": [
    "for i in range(len(data)):\n",
    "        plt.scatter(data[i][0], data[i][1])\n",
    "        plt.text(data[i][0] + 0.07, data[i][1] + 0.07, str(output[i]), fontsize=9)"
   ]
  },
  {
   "cell_type": "code",
   "execution_count": 30,
   "metadata": {},
   "outputs": [
    {
     "name": "stdout",
     "output_type": "stream",
     "text": [
      "Output >>  [2, 0, 0, 1, 0, 0]\n"
     ]
    }
   ],
   "source": [
    "test_data = [\n",
    "    [2,9],\n",
    "    [1,2],\n",
    "    [2,4],\n",
    "     [6,9],\n",
    "    [8,2],\n",
    "    [10,3.5]\n",
    "]\n",
    "print(\"Output >> \", predict(test_data, means, K))"
   ]
  },
  {
   "cell_type": "code",
   "execution_count": null,
   "metadata": {},
   "outputs": [],
   "source": []
  }
 ],
 "metadata": {
  "kernelspec": {
   "display_name": "Python 3",
   "language": "python",
   "name": "python3"
  },
  "language_info": {
   "codemirror_mode": {
    "name": "ipython",
    "version": 3
   },
   "file_extension": ".py",
   "mimetype": "text/x-python",
   "name": "python",
   "nbconvert_exporter": "python",
   "pygments_lexer": "ipython3",
   "version": "3.7.3"
  }
 },
 "nbformat": 4,
 "nbformat_minor": 2
}
