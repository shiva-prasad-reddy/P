{
 "cells": [
  {
   "cell_type": "code",
   "execution_count": 49,
   "metadata": {},
   "outputs": [],
   "source": [
    "answer = [None, None]\n",
    "\n",
    "def f(A, U):\n",
    "    if(U != set()):\n",
    "        x = U.pop()\n",
    "        f(A.union([x]), U.union(set()))\n",
    "        f(A.union(set()), U.union(set()))\n",
    "    else:\n",
    "        global answer\n",
    "        if(sum(A) == 20):\n",
    "            if(answer[0] == None or len(A) < answer[0]):\n",
    "                answer[0] = len(A)\n",
    "                answer[1] = A\n",
    "            \n",
    "        print(\"len =\", len(A),A, \"sum =\", sum(A))\n",
    "\n"
   ]
  },
  {
   "cell_type": "code",
   "execution_count": 50,
   "metadata": {},
   "outputs": [],
   "source": [
    "A = set()\n",
    "U = {1,4,5,8,11}"
   ]
  },
  {
   "cell_type": "code",
   "execution_count": 53,
   "metadata": {},
   "outputs": [
    {
     "name": "stdout",
     "output_type": "stream",
     "text": [
      "len = 4 {8, 11, 4, 5} sum = 28\n",
      "len = 3 {8, 11, 4} sum = 23\n",
      "len = 3 {8, 4, 5} sum = 17\n",
      "len = 2 {8, 4} sum = 12\n",
      "len = 3 {11, 4, 5} sum = 20\n",
      "len = 2 {11, 4} sum = 15\n",
      "len = 2 {4, 5} sum = 9\n",
      "len = 1 {4} sum = 4\n",
      "len = 3 {8, 11, 5} sum = 24\n",
      "len = 2 {8, 11} sum = 19\n",
      "len = 2 {8, 5} sum = 13\n",
      "len = 1 {8} sum = 8\n",
      "len = 2 {11, 5} sum = 16\n",
      "len = 1 {11} sum = 11\n",
      "len = 1 {5} sum = 5\n",
      "len = 0 set() sum = 0\n",
      "[3, {8, 1, 11}]\n"
     ]
    }
   ],
   "source": [
    "f(A,U)\n",
    "print(answer)"
   ]
  },
  {
   "cell_type": "code",
   "execution_count": 52,
   "metadata": {},
   "outputs": [
    {
     "data": {
      "text/plain": [
       "[3, {1, 8, 11}]"
      ]
     },
     "execution_count": 52,
     "metadata": {},
     "output_type": "execute_result"
    }
   ],
   "source": [
    "answer"
   ]
  },
  {
   "cell_type": "code",
   "execution_count": null,
   "metadata": {},
   "outputs": [],
   "source": []
  }
 ],
 "metadata": {
  "kernelspec": {
   "display_name": "Python 3",
   "language": "python",
   "name": "python3"
  },
  "language_info": {
   "codemirror_mode": {
    "name": "ipython",
    "version": 3
   },
   "file_extension": ".py",
   "mimetype": "text/x-python",
   "name": "python",
   "nbconvert_exporter": "python",
   "pygments_lexer": "ipython3",
   "version": "3.7.3"
  }
 },
 "nbformat": 4,
 "nbformat_minor": 2
}
